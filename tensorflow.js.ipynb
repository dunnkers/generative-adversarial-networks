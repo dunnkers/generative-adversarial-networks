{
 "metadata": {
  "language_info": {
   "codemirror_mode": {
    "name": "ipython",
    "version": 3
   },
   "file_extension": ".py",
   "mimetype": "text/x-python",
   "name": "python",
   "nbconvert_exporter": "python",
   "pygments_lexer": "ipython3",
   "version": "3.7.10-final"
  },
  "orig_nbformat": 2,
  "kernelspec": {
   "name": "python3",
   "display_name": "Python 3.7.10 64-bit ('tf1-venv': venv)",
   "metadata": {
    "interpreter": {
     "hash": "3282bdd06cf04092a1f7b399cc965e23a777b6103896dff3f5d3342bd902cd66"
    }
   }
  }
 },
 "nbformat": 4,
 "nbformat_minor": 2,
 "cells": [
  {
   "cell_type": "code",
   "execution_count": 1,
   "metadata": {},
   "outputs": [
    {
     "output_type": "execute_result",
     "data": {
      "text/plain": [
       "'1.15.0'"
      ]
     },
     "metadata": {},
     "execution_count": 1
    }
   ],
   "source": [
    "import tensorflow as tf\n",
    "tf.__version__"
   ]
  },
  {
   "cell_type": "code",
   "execution_count": 5,
   "metadata": {},
   "outputs": [
    {
     "output_type": "stream",
     "name": "stdout",
     "text": [
      "WARNING:tensorflow:From /Users/dunnkers/.pyenv/versions/tf1-venv/lib/python3.7/site-packages/dnnlib/tflib/tfutil.py:109: The name tf.set_random_seed is deprecated. Please use tf.compat.v1.set_random_seed instead.\n",
      "\n",
      "WARNING:tensorflow:From /Users/dunnkers/.pyenv/versions/tf1-venv/lib/python3.7/site-packages/dnnlib/tflib/tfutil.py:132: The name tf.ConfigProto is deprecated. Please use tf.compat.v1.ConfigProto instead.\n",
      "\n",
      "WARNING:tensorflow:From /Users/dunnkers/.pyenv/versions/tf1-venv/lib/python3.7/site-packages/dnnlib/tflib/network.py:142: The name tf.get_default_graph is deprecated. Please use tf.compat.v1.get_default_graph instead.\n",
      "\n",
      "WARNING:tensorflow:From /Users/dunnkers/.pyenv/versions/tf1-venv/lib/python3.7/site-packages/dnnlib/tflib/network.py:150: The name tf.AUTO_REUSE is deprecated. Please use tf.compat.v1.AUTO_REUSE instead.\n",
      "\n",
      "WARNING:tensorflow:From /Users/dunnkers/.pyenv/versions/tf1-venv/lib/python3.7/site-packages/dnnlib/tflib/tfutil.py:76: The name tf.VariableScope is deprecated. Please use tf.compat.v1.VariableScope instead.\n",
      "\n",
      "WARNING:tensorflow:From /Users/dunnkers/.pyenv/versions/tf1-venv/lib/python3.7/site-packages/dnnlib/tflib/network.py:151: The name tf.get_variable_scope is deprecated. Please use tf.compat.v1.get_variable_scope instead.\n",
      "\n",
      "WARNING:tensorflow:From /Users/dunnkers/.pyenv/versions/tf1-venv/lib/python3.7/site-packages/dnnlib/tflib/network.py:154: The name tf.placeholder is deprecated. Please use tf.compat.v1.placeholder instead.\n",
      "\n",
      "WARNING:tensorflow:From /Users/dunnkers/.pyenv/versions/tf1-venv/lib/python3.7/site-packages/dnnlib/tflib/network.py:182: The name tf.global_variables is deprecated. Please use tf.compat.v1.global_variables instead.\n",
      "\n",
      "WARNING:tensorflow:From /Users/dunnkers/.pyenv/versions/tf1-venv/lib/python3.7/site-packages/dnnlib/tflib/tfutil.py:200: The name tf.assign is deprecated. Please use tf.compat.v1.assign instead.\n",
      "\n",
      "WARNING:tensorflow:From <string>:364: where (from tensorflow.python.ops.array_ops) is deprecated and will be removed in a future version.\n",
      "Instructions for updating:\n",
      "Use tf.where in 2.0, which has the same broadcast rule as np.where\n"
     ]
    },
    {
     "output_type": "execute_result",
     "data": {
      "text/plain": [
       "(<dnnlib.tflib.network.Network at 0x12d4a5650>,\n",
       " <dnnlib.tflib.network.Network at 0x12db31f90>,\n",
       " <dnnlib.tflib.network.Network at 0x12dec9d50>)"
      ]
     },
     "metadata": {},
     "execution_count": 5
    }
   ],
   "source": [
    "import pickle\n",
    "import dnnlib\n",
    "\n",
    "dnnlib.tflib.init_tf()\n",
    "data = pickle.load( open( \"/Users/dunnkers/Downloads/network-snapshot-003286.pkl\", \"rb\" ) )\n",
    "data"
   ]
  },
  {
   "cell_type": "code",
   "execution_count": 13,
   "metadata": {},
   "outputs": [
    {
     "output_type": "execute_result",
     "data": {
      "text/plain": [
       "<dnnlib.tflib.network.Network at 0x12d4a5650>"
      ]
     },
     "metadata": {},
     "execution_count": 13
    }
   ],
   "source": [
    "a, b, c = data\n",
    "a"
   ]
  }
 ]
}